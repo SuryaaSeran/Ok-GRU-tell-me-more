{
 "cells": [
  {
   "cell_type": "code",
   "execution_count": 1,
   "id": "attractive-petite",
   "metadata": {},
   "outputs": [
    {
     "name": "stderr",
     "output_type": "stream",
     "text": [
      "[nltk_data] Downloading package punkt to\n",
      "[nltk_data]     C:\\Users\\Suryaa\\AppData\\Roaming\\nltk_data...\n",
      "[nltk_data]   Package punkt is already up-to-date!\n"
     ]
    },
    {
     "data": {
      "text/plain": [
       "True"
      ]
     },
     "execution_count": 1,
     "metadata": {},
     "output_type": "execute_result"
    }
   ],
   "source": [
    "import nltk\n",
    "from nltk.corpus import stopwords\n",
    "from nltk.tokenize import word_tokenize\n",
    "nltk.download('punkt')"
   ]
  },
  {
   "cell_type": "code",
   "execution_count": 2,
   "id": "agricultural-baseline",
   "metadata": {},
   "outputs": [
    {
     "name": "stdout",
     "output_type": "stream",
     "text": [
      "excuse me. do you mind? everywhere else is full. not at all. i'm ron, by the way, ron weasley. i'm harry. harry potter. true. i mean, do you really have the birth or what? anything off the trolley, dear? no, thanks. i'm all set. we'll take the lot. birdie bought every flavor. beans. they mean every flavor. there's chocolate and peppermint. and there's also spinach liver and tripe. george swear he got a bogey flavored one month. these aren't real frogs, are they? it's just a spell. besides the card you want.\n",
      "\n",
      "each pack got a famous. which about 500 of myself. watch it. it's rotten luck. i've only got one good jumping. and to begin with, i've got dumbledore. i got about six of him. he's gone.\n",
      "\n",
      "well, you can't expect and draw around all day, can you?\n",
      "\n",
      "this is scattered, by the way. pathetic, isn't he? suffered a little bit. fred gave me a spell after turning yellow. want to see? yeah. has anyone seen his home? a boy named neville lost one. oh, are you doing magic? let's see then. sunshine. daisies, butter, mellow. turn. it stupid. but yellow. are you sure that's a real spell? well, it's not very good, is it? of course. i've only tried a few simple ones myself, but they've all worked for me. example. oculus, repair. that's better, isn't it? holy cricket.\n",
      "\n",
      "you're harry potter. i'm mildly granger. and you are, ron. pleasure. you two better change into robes. i expect we'll be arriving soon. you've got dirt on your nose, by the way, did you know? just bear. you.\n",
      "\n",
      "\n"
     ]
    }
   ],
   "source": [
    "sub_file = open(\"subtitle.txt\", \"r\")\n",
    "sub = sub_file.read().lower()\n",
    "sub_file.close()\n",
    "print(sub)"
   ]
  },
  {
   "cell_type": "code",
   "execution_count": 3,
   "id": "plain-startup",
   "metadata": {},
   "outputs": [
    {
     "name": "stdout",
     "output_type": "stream",
     "text": [
      "excuse me do you mind everywhere else is\n",
      "\n",
      "full not at all\n",
      "\n",
      "i'm wrong by the way ron weasley i'm\n",
      "\n",
      "harry harry potter so so it's true i\n",
      "\n",
      "mean do you really have the the the what\n",
      "\n",
      "wicked\n",
      "\n",
      "anything off the trolley dears no thanks\n",
      "\n",
      "i'm all set\n",
      "\n",
      "we'll take the lot\n",
      "\n",
      "whoa\n",
      "\n",
      "first of all searches take the beans\n",
      "\n",
      "they mean every flavor there's chocolate\n",
      "\n",
      "and peppermint and there's also spinach\n",
      "\n",
      "liver and tripe george sweat he got a\n",
      "\n",
      "bogey flavored one month\n",
      "\n",
      "these aren't real frogs are they it's\n",
      "\n",
      "just a spell besides it's the cards you\n",
      "\n",
      "want each packs got a famous what was it\n",
      "\n",
      "all about 500 meself what check\n",
      "\n",
      "\n",
      "rotten luck i've only got one good jump\n",
      "\n",
      "in them to begin with\n",
      "\n",
      "i've got dumbledore i got about six of\n",
      "\n",
      "him hey he's gone\n",
      "\n",
      "oh you can't expect and round all day\n",
      "\n",
      "can you this is scabbers pathway\n",
      "\n",
      "athletic isn't he just a little bit fred\n",
      "\n",
      "gave me a spell us to turn him yellow\n",
      "\n",
      "want to see yeah\n",
      "\n",
      "son\n",
      "\n",
      "has anyone seen his tote a boy named\n",
      "\n",
      "neville's lost one no oh are you doing\n",
      "\n",
      "magic let's see them sunshine daisies\n",
      "\n",
      "butter mellow turn the stupid fat rat\n",
      "\n",
      "yellow are you sure that's a real spell\n",
      "\n",
      "well it's not very good is it\n",
      "\n",
      "of course i've only tried a few simple\n",
      "\n",
      "ones myself but they've all work for me\n",
      "\n",
      "example oculus reparo that's better\n",
      "\n",
      "isn't it oh crickett you're harry potter\n",
      "\n",
      "i'm a miner granger and wrong lose with\n",
      "\n",
      "pleasure you two better change into\n",
      "\n",
      "robes i expect we'll be arriving soon\n",
      "\n",
      "you've got dirt on your nose by the way\n",
      "\n",
      "did you know\n"
     ]
    }
   ],
   "source": [
    "recog_file = open(\"recog.txt\", \"r\")\n",
    "recog = recog_file.read().lower()\n",
    "recog_file.close()\n",
    "print(recog)"
   ]
  },
  {
   "cell_type": "code",
   "execution_count": 4,
   "id": "applicable-greene",
   "metadata": {},
   "outputs": [
    {
     "name": "stdout",
     "output_type": "stream",
     "text": [
      "similarity:  0.7872057314294038\n"
     ]
    }
   ],
   "source": [
    "# tokenization\n",
    "X_list = word_tokenize(sub) \n",
    "Y_list = word_tokenize(recog)\n",
    "  \n",
    "# sw contains the list of stopwords\n",
    "sw = stopwords.words('english') \n",
    "l1 =[];l2 =[]\n",
    "  \n",
    "# remove stop words from the string\n",
    "X_set = {w for w in X_list if not w in sw} \n",
    "Y_set = {w for w in Y_list if not w in sw}\n",
    "  \n",
    "# form a set containing keywords of both strings \n",
    "rvector = X_set.union(Y_set) \n",
    "for w in rvector:\n",
    "    if w in X_set: l1.append(1) # create a vector\n",
    "    else: l1.append(0)\n",
    "    if w in Y_set: l2.append(1)\n",
    "    else: l2.append(0)\n",
    "c = 0\n",
    "  \n",
    "# cosine formula \n",
    "for i in range(len(rvector)):\n",
    "        c+= l1[i]*l2[i]\n",
    "cosine = c / float((sum(l1)*sum(l2))**0.5)\n",
    "print(\"similarity: \", cosine)"
   ]
  }
 ],
 "metadata": {
  "kernelspec": {
   "display_name": "Python 3",
   "language": "python",
   "name": "python3"
  },
  "language_info": {
   "codemirror_mode": {
    "name": "ipython",
    "version": 3
   },
   "file_extension": ".py",
   "mimetype": "text/x-python",
   "name": "python",
   "nbconvert_exporter": "python",
   "pygments_lexer": "ipython3",
   "version": "3.7.9"
  }
 },
 "nbformat": 4,
 "nbformat_minor": 5
}
